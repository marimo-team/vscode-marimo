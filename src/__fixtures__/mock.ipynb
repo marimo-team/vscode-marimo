{
  "cells": [
    {
      "cell_type": "code",
      "execution_count": 3,
      "id": "3be16cc1",
      "metadata": {},
      "outputs": [],
      "source": [
        "x = 2 + 2"
      ]
    },
    {
      "cell_type": "code",
      "execution_count": 4,
      "id": "e64015b8",
      "metadata": {},
      "outputs": [
        {
          "data": {
            "text/plain": [
              "4"
            ]
          },
          "execution_count": 4,
          "metadata": {},
          "output_type": "execute_result"
        }
      ],
      "source": [
        "x"
      ]
    }
  ],
  "metadata": {
    "kernelspec": {
      "display_name": "Python 3 (ipykernel)",
      "language": "python",
      "name": "python3"
    },
    "language_info": {
      "codemirror_mode": {
        "name": "ipython",
        "version": 3
      },
      "file_extension": ".py",
      "mimetype": "text/x-python",
      "name": "python",
      "nbconvert_exporter": "python",
      "pygments_lexer": "ipython3",
      "version": "3.11.4"
    }
  },
  "nbformat": 4,
  "nbformat_minor": 5
}
